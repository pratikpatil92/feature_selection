{
 "cells": [
  {
   "cell_type": "code",
   "execution_count": 1,
   "metadata": {},
   "outputs": [
    {
     "name": "stderr",
     "output_type": "stream",
     "text": [
      "C:\\Users\\Pratik\\Anaconda3\\envs\\greyatom\\lib\\site-packages\\ipykernel_launcher.py:21: SettingWithCopyWarning: \n",
      "A value is trying to be set on a copy of a slice from a DataFrame.\n",
      "Try using .loc[row_indexer,col_indexer] = value instead\n",
      "\n",
      "See the caveats in the documentation: http://pandas.pydata.org/pandas-docs/stable/indexing.html#indexing-view-versus-copy\n"
     ]
    },
    {
     "name": "stdout",
     "output_type": "stream",
     "text": [
      "Index(['OverallQual', 'YearBuilt', 'YearRemodAdd', 'ExterQual', 'BsmtQual',\n",
      "       'TotalBsmtSF', '1stFlrSF', 'GrLivArea', 'FullBath', 'KitchenQual',\n",
      "       'TotRmsAbvGrd', 'GarageCars', 'GarageArea'],\n",
      "      dtype='object')\n",
      "0.7227056628201065\n",
      "13\n"
     ]
    }
   ],
   "source": [
    "import numpy as np\n",
    "import pandas as pd\n",
    "import seaborn as sns\n",
    "from matplotlib import pyplot as plt\n",
    "from sklearn.preprocessing import LabelEncoder\n",
    "from sklearn.model_selection import train_test_split\n",
    "from sklearn.linear_model import LinearRegression\n",
    "# Code starts here\n",
    "\n",
    "#Loading of data\n",
    "ames = pd.read_csv('C:/Users/Pratik/Desktop/my codes/Feature selection/file.csv')\n",
    "\n",
    "\n",
    "X=ames.drop(['SalePrice'],1)\n",
    "y=ames['SalePrice'].copy()\n",
    "\n",
    "#Splitting of data\n",
    "X_train, X_test, y_train, y_test= train_test_split(X,y, test_size=0.3, random_state=0) \n",
    "\n",
    "#Creating temp. dataframe\n",
    "X_train['Class']=y_train\n",
    "t_corr=X_train.corr()\n",
    "t_corr=t_corr['Class']\n",
    "\n",
    "\n",
    "#Selecting columns having correlation higher than 0.5\n",
    "corr_columns=t_corr[abs(t_corr)>0.5].index\n",
    "\n",
    "#Dropping the column `Class`\n",
    "corr_columns=corr_columns.drop('Class')\n",
    "print(corr_columns)\n",
    "#Updating train and test dataframes\n",
    "X_train_new=X_train[corr_columns]\n",
    "\n",
    "X_test_new=X_test[corr_columns]\n",
    "\n",
    "#Initialising the model\n",
    "model=LinearRegression()\n",
    "\n",
    "#Fitting the model\n",
    "model.fit(X_train_new,y_train)\n",
    "\n",
    "#Finding the score of the model\n",
    "corr_score=model.score(X_test_new,y_test)\n",
    "print(corr_score)\n",
    "\n",
    "#Checking how many columns were selected\n",
    "print(len(X_train_new.columns))"
   ]
  },
  {
   "cell_type": "code",
   "execution_count": 2,
   "metadata": {},
   "outputs": [
    {
     "name": "stdout",
     "output_type": "stream",
     "text": [
      "0.7526152480701811\n"
     ]
    }
   ],
   "source": [
    "# import packages\n",
    "from sklearn.feature_selection import chi2\n",
    "\n",
    "from sklearn.feature_selection import SelectKBest\n",
    "\n",
    "# Code starts here\n",
    "\n",
    "\n",
    "\n",
    "\n",
    "#Splitting dataframe into test and train\n",
    "X_train, X_test, y_train, y_test= train_test_split(X,y, test_size=0.3, random_state=0) \n",
    "\n",
    "#Initialising the score function\n",
    "test = SelectKBest(score_func=chi2, k=60)\n",
    "\n",
    "#Fitting and transforming the model on X_train\n",
    "X_train= test.fit_transform(X_train, y_train)\n",
    "\n",
    "#Fitting and transforming the model on X_test\n",
    "X_test= test.transform(X_test)\n",
    "\n",
    "#Initialising the Linear Regression model\n",
    "model=LinearRegression()\n",
    "\n",
    "#Fitting the model\n",
    "model.fit(X_train,y_train)\n",
    "\n",
    "#Finding the model score\n",
    "chi2_score=model.score(X_test,y_test)\n",
    "\n",
    "print(chi2_score)\n",
    "# Code ends here\n"
   ]
  },
  {
   "cell_type": "markdown",
   "metadata": {},
   "source": [
    "## Wrapper Method"
   ]
  },
  {
   "cell_type": "code",
   "execution_count": 3,
   "metadata": {},
   "outputs": [
    {
     "name": "stdout",
     "output_type": "stream",
     "text": [
      "No. of features= 30 gives the best score= 0.7627843526086596\n"
     ]
    }
   ],
   "source": [
    "# Feature Extraction with RFE\n",
    "from pandas import read_csv\n",
    "from sklearn.feature_selection import RFE\n",
    "from sklearn.linear_model import LinearRegression\n",
    "from sklearn.ensemble import ExtraTreesClassifier\n",
    "\n",
    "#no of features list\n",
    "nof_list=[20,30,40,50,60,70,80]\n",
    "\n",
    "#Variable to store the highest score\n",
    "high_score=0\n",
    "\n",
    "#Variable to store the optimum features\n",
    "nof=0\n",
    "\n",
    "#Code begins here\n",
    "X = ames.drop(['SalePrice'],1)\n",
    "y=ames['SalePrice'].copy()\n",
    "\n",
    "#Loop to select the optimum features\n",
    "for n in nof_list:\n",
    "    X_train, X_test, y_train, y_test= train_test_split(X,y, test_size=0.3, random_state=0) \n",
    "    model = LinearRegression()\n",
    "    rfe = RFE(model, n)\n",
    "    X_train_rfe = rfe.fit_transform(X_train, y_train)\n",
    "    X_test_rfe = rfe.transform(X_test)\n",
    "    model.fit(X_train_rfe,y_train)\n",
    "    if model.score(X_test_rfe,y_test)>high_score:\n",
    "        high_score=model.score(X_test_rfe,y_test)\n",
    "        feat=n\n",
    "\n",
    "\n",
    "#Printing the no. features with the highest score along with the highest score\n",
    "print(\"No. of features=\",feat, \"gives the best score=\",high_score)\n"
   ]
  },
  {
   "cell_type": "markdown",
   "metadata": {},
   "source": [
    "## Embedded methods"
   ]
  },
  {
   "cell_type": "code",
   "execution_count": 8,
   "metadata": {},
   "outputs": [
    {
     "name": "stdout",
     "output_type": "stream",
     "text": [
      "lasso score:  0.6671828548745306\n",
      "ridge_score:  0.6788394406778494\n"
     ]
    }
   ],
   "source": [
    "from sklearn.model_selection import train_test_split\n",
    "from sklearn.linear_model import Lasso\n",
    "from sklearn.linear_model import Ridge\n",
    "\n",
    "# Code starts here\n",
    "X_train, X_test, y_train, y_test= train_test_split(X,y, test_size=0.3, random_state=0)\n",
    "\n",
    "lasso = Lasso(random_state=0)\n",
    "\n",
    "lasso.fit(X_train,y_train)\n",
    "lasso_score = lasso.score(X_test,y_test)\n",
    "print('lasso score: ', lasso_score)\n",
    "ridge = Ridge(random_state = 0)\n",
    "\n",
    "ridge.fit(X_train,y_train)\n",
    "ridge_score = ridge.score(X_test,y_test)\n",
    "print('ridge_score: ',ridge_score)\n",
    "# Code ends here"
   ]
  },
  {
   "cell_type": "code",
   "execution_count": null,
   "metadata": {},
   "outputs": [],
   "source": []
  }
 ],
 "metadata": {
  "kernelspec": {
   "display_name": "Python 3",
   "language": "python",
   "name": "python3"
  },
  "language_info": {
   "codemirror_mode": {
    "name": "ipython",
    "version": 3
   },
   "file_extension": ".py",
   "mimetype": "text/x-python",
   "name": "python",
   "nbconvert_exporter": "python",
   "pygments_lexer": "ipython3",
   "version": "3.6.8"
  }
 },
 "nbformat": 4,
 "nbformat_minor": 2
}
